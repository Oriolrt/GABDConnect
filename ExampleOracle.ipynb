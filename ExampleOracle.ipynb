{
  "nbformat": 4,
  "nbformat_minor": 0,
  "metadata": {
    "colab": {
      "provenance": []
    },
    "kernelspec": {
      "name": "python3",
      "display_name": "Python 3"
    },
    "language_info": {
      "name": "python"
    }
  },
  "cells": [
    {
      "cell_type": "code",
      "source": [
        "!rm -rf PractiquesGABD/\n",
        "!git clone https://github.com/Oriolrt/PractiquesGABD.git"
      ],
      "metadata": {
        "colab": {
          "base_uri": "https://localhost:8080/"
        },
        "id": "rhz0xrBNqiqr",
        "outputId": "90dbc59b-01c9-452f-dddf-463fe82cdbf6"
      },
      "execution_count": 1,
      "outputs": [
        {
          "output_type": "stream",
          "name": "stdout",
          "text": [
            "Cloning into 'PractiquesGABD'...\n",
            "remote: Enumerating objects: 51, done.\u001b[K\n",
            "remote: Counting objects: 100% (51/51), done.\u001b[K\n",
            "remote: Compressing objects: 100% (38/38), done.\u001b[K\n",
            "remote: Total 51 (delta 23), reused 24 (delta 9), pack-reused 0\u001b[K\n",
            "Unpacking objects: 100% (51/51), 14.50 KiB | 990.00 KiB/s, done.\n"
          ]
        }
      ]
    },
    {
      "cell_type": "code",
      "source": [
        "!pip install   install -e  PractiquesGABD/"
      ],
      "metadata": {
        "colab": {
          "base_uri": "https://localhost:8080/"
        },
        "id": "kx9xlYkKj5hM",
        "outputId": "a29d50e6-729c-4289-b582-7b006e55fa1a"
      },
      "execution_count": 2,
      "outputs": [
        {
          "output_type": "stream",
          "name": "stdout",
          "text": [
            "Obtaining file:///content/PractiquesGABD\n",
            "  Preparing metadata (setup.py) ... \u001b[?25l\u001b[?25hdone\n",
            "Collecting install\n",
            "  Downloading install-1.3.5-py3-none-any.whl (3.2 kB)\n",
            "Collecting oracleDB (from GABDConnect==0.0.1)\n",
            "  Downloading oracledb-1.3.2-cp310-cp310-manylinux_2_17_x86_64.manylinux2014_x86_64.whl (7.6 MB)\n",
            "\u001b[2K     \u001b[90m━━━━━━━━━━━━━━━━━━━━━━━━━━━━━━━━━━━━━━━━\u001b[0m \u001b[32m7.6/7.6 MB\u001b[0m \u001b[31m49.3 MB/s\u001b[0m eta \u001b[36m0:00:00\u001b[0m\n",
            "\u001b[?25hCollecting pymongo (from GABDConnect==0.0.1)\n",
            "  Downloading pymongo-4.4.1-cp310-cp310-manylinux_2_17_x86_64.manylinux2014_x86_64.whl (603 kB)\n",
            "\u001b[2K     \u001b[90m━━━━━━━━━━━━━━━━━━━━━━━━━━━━━━━━━━━━━━\u001b[0m \u001b[32m603.6/603.6 kB\u001b[0m \u001b[31m30.9 MB/s\u001b[0m eta \u001b[36m0:00:00\u001b[0m\n",
            "\u001b[?25hCollecting sshtunnel (from GABDConnect==0.0.1)\n",
            "  Downloading sshtunnel-0.4.0-py2.py3-none-any.whl (24 kB)\n",
            "Requirement already satisfied: scikit-learn in /usr/local/lib/python3.10/dist-packages (from GABDConnect==0.0.1) (1.2.2)\n",
            "Requirement already satisfied: tqdm in /usr/local/lib/python3.10/dist-packages (from GABDConnect==0.0.1) (4.65.0)\n",
            "Requirement already satisfied: matplotlib in /usr/local/lib/python3.10/dist-packages (from GABDConnect==0.0.1) (3.7.1)\n",
            "Requirement already satisfied: pandas in /usr/local/lib/python3.10/dist-packages (from GABDConnect==0.0.1) (1.5.3)\n",
            "Requirement already satisfied: contourpy>=1.0.1 in /usr/local/lib/python3.10/dist-packages (from matplotlib->GABDConnect==0.0.1) (1.1.0)\n",
            "Requirement already satisfied: cycler>=0.10 in /usr/local/lib/python3.10/dist-packages (from matplotlib->GABDConnect==0.0.1) (0.11.0)\n",
            "Requirement already satisfied: fonttools>=4.22.0 in /usr/local/lib/python3.10/dist-packages (from matplotlib->GABDConnect==0.0.1) (4.40.0)\n",
            "Requirement already satisfied: kiwisolver>=1.0.1 in /usr/local/lib/python3.10/dist-packages (from matplotlib->GABDConnect==0.0.1) (1.4.4)\n",
            "Requirement already satisfied: numpy>=1.20 in /usr/local/lib/python3.10/dist-packages (from matplotlib->GABDConnect==0.0.1) (1.22.4)\n",
            "Requirement already satisfied: packaging>=20.0 in /usr/local/lib/python3.10/dist-packages (from matplotlib->GABDConnect==0.0.1) (23.1)\n",
            "Requirement already satisfied: pillow>=6.2.0 in /usr/local/lib/python3.10/dist-packages (from matplotlib->GABDConnect==0.0.1) (8.4.0)\n",
            "Requirement already satisfied: pyparsing>=2.3.1 in /usr/local/lib/python3.10/dist-packages (from matplotlib->GABDConnect==0.0.1) (3.1.0)\n",
            "Requirement already satisfied: python-dateutil>=2.7 in /usr/local/lib/python3.10/dist-packages (from matplotlib->GABDConnect==0.0.1) (2.8.2)\n",
            "Collecting cryptography>=3.2.1 (from oracleDB->GABDConnect==0.0.1)\n",
            "  Downloading cryptography-41.0.2-cp37-abi3-manylinux_2_28_x86_64.whl (4.3 MB)\n",
            "\u001b[2K     \u001b[90m━━━━━━━━━━━━━━━━━━━━━━━━━━━━━━━━━━━━━━━━\u001b[0m \u001b[32m4.3/4.3 MB\u001b[0m \u001b[31m59.5 MB/s\u001b[0m eta \u001b[36m0:00:00\u001b[0m\n",
            "\u001b[?25hRequirement already satisfied: pytz>=2020.1 in /usr/local/lib/python3.10/dist-packages (from pandas->GABDConnect==0.0.1) (2022.7.1)\n",
            "Collecting dnspython<3.0.0,>=1.16.0 (from pymongo->GABDConnect==0.0.1)\n",
            "  Downloading dnspython-2.3.0-py3-none-any.whl (283 kB)\n",
            "\u001b[2K     \u001b[90m━━━━━━━━━━━━━━━━━━━━━━━━━━━━━━━━━━━━━━\u001b[0m \u001b[32m283.7/283.7 kB\u001b[0m \u001b[31m21.3 MB/s\u001b[0m eta \u001b[36m0:00:00\u001b[0m\n",
            "\u001b[?25hRequirement already satisfied: scipy>=1.3.2 in /usr/local/lib/python3.10/dist-packages (from scikit-learn->GABDConnect==0.0.1) (1.10.1)\n",
            "Requirement already satisfied: joblib>=1.1.1 in /usr/local/lib/python3.10/dist-packages (from scikit-learn->GABDConnect==0.0.1) (1.3.1)\n",
            "Requirement already satisfied: threadpoolctl>=2.0.0 in /usr/local/lib/python3.10/dist-packages (from scikit-learn->GABDConnect==0.0.1) (3.1.0)\n",
            "Collecting paramiko>=2.7.2 (from sshtunnel->GABDConnect==0.0.1)\n",
            "  Downloading paramiko-3.2.0-py3-none-any.whl (224 kB)\n",
            "\u001b[2K     \u001b[90m━━━━━━━━━━━━━━━━━━━━━━━━━━━━━━━━━━━━━━\u001b[0m \u001b[32m224.2/224.2 kB\u001b[0m \u001b[31m18.5 MB/s\u001b[0m eta \u001b[36m0:00:00\u001b[0m\n",
            "\u001b[?25hRequirement already satisfied: cffi>=1.12 in /usr/local/lib/python3.10/dist-packages (from cryptography>=3.2.1->oracleDB->GABDConnect==0.0.1) (1.15.1)\n",
            "Collecting bcrypt>=3.2 (from paramiko>=2.7.2->sshtunnel->GABDConnect==0.0.1)\n",
            "  Downloading bcrypt-4.0.1-cp36-abi3-manylinux_2_28_x86_64.whl (593 kB)\n",
            "\u001b[2K     \u001b[90m━━━━━━━━━━━━━━━━━━━━━━━━━━━━━━━━━━━━━━\u001b[0m \u001b[32m593.7/593.7 kB\u001b[0m \u001b[31m32.7 MB/s\u001b[0m eta \u001b[36m0:00:00\u001b[0m\n",
            "\u001b[?25hCollecting pynacl>=1.5 (from paramiko>=2.7.2->sshtunnel->GABDConnect==0.0.1)\n",
            "  Downloading PyNaCl-1.5.0-cp36-abi3-manylinux_2_17_x86_64.manylinux2014_x86_64.manylinux_2_24_x86_64.whl (856 kB)\n",
            "\u001b[2K     \u001b[90m━━━━━━━━━━━━━━━━━━━━━━━━━━━━━━━━━━━━━━\u001b[0m \u001b[32m856.7/856.7 kB\u001b[0m \u001b[31m42.0 MB/s\u001b[0m eta \u001b[36m0:00:00\u001b[0m\n",
            "\u001b[?25hRequirement already satisfied: six>=1.5 in /usr/local/lib/python3.10/dist-packages (from python-dateutil>=2.7->matplotlib->GABDConnect==0.0.1) (1.16.0)\n",
            "Requirement already satisfied: pycparser in /usr/local/lib/python3.10/dist-packages (from cffi>=1.12->cryptography>=3.2.1->oracleDB->GABDConnect==0.0.1) (2.21)\n",
            "Installing collected packages: install, dnspython, bcrypt, pynacl, pymongo, cryptography, paramiko, oracleDB, sshtunnel, GABDConnect\n",
            "  Running setup.py develop for GABDConnect\n",
            "Successfully installed GABDConnect-0.0.1 bcrypt-4.0.1 cryptography-41.0.2 dnspython-2.3.0 install-1.3.5 oracleDB-1.3.2 paramiko-3.2.0 pymongo-4.4.1 pynacl-1.5.0 sshtunnel-0.4.0\n"
          ]
        }
      ]
    },
    {
      "cell_type": "code",
      "source": [
        "!pip list -v | grep GABD\n",
        "import os\n",
        "os.kill(os.getpid(), 9)"
      ],
      "metadata": {
        "colab": {
          "base_uri": "https://localhost:8080/"
        },
        "id": "FChkl0UE0aka",
        "outputId": "c814eb3b-91a0-4148-e842-e36ba98f144b"
      },
      "execution_count": null,
      "outputs": [
        {
          "output_type": "stream",
          "name": "stdout",
          "text": [
            "GABDConnect                      0.0.1                 /content/PractiquesGABD   /content/PractiquesGABD\n"
          ]
        }
      ]
    },
    {
      "cell_type": "code",
      "source": [
        "from GABDConnect.oracleConnection import oracleConnection as orcl\n",
        "import getpass\n",
        "import logging"
      ],
      "metadata": {
        "id": "p6iEn-8Ycovs"
      },
      "execution_count": 1,
      "outputs": []
    },
    {
      "cell_type": "markdown",
      "source": [
        "# Conexión a Oracle\n",
        "Para conectarse a una base de datos des de Oracle es necesario instalar las libreria cx_Oracle o oracledb. En caso de instalar cx_Oracle será necesario tambien tener instalada la libreria *oracle_instant_client*."
      ],
      "metadata": {
        "id": "gchDobUsAiw4"
      }
    },
    {
      "cell_type": "markdown",
      "source": [
        "Añadimos las librerias y los datos de connexión. La variable *DSN* contiene los datos de __servidor__, __puerto__ y __nombre de servicio__ necesarios para conectarse a un servidor remoto."
      ],
      "metadata": {
        "id": "HhZ8twaIBSWq"
      }
    },
    {
      "cell_type": "code",
      "source": [
        " # Inicialitzem el diccionari amb les dades de connexió SSH per fer el tunel\n",
        "ssh_tunnel = \"dcccluster.uab.cat\"\n",
        "ssh_user = \"student\"\n",
        "pwd = getpass.getpass(\"Enter password: \")\n",
        "port = getpass.getpass(\"Enter port: \")\n",
        "\n",
        "ssh_server = {'ssh': ssh_tunnel , 'user': ssh_user,\n",
        "                'pwd': pwd, 'port': port} if ssh_tunnel is not None else None"
      ],
      "metadata": {
        "id": "R9NyUeLD7ieV",
        "colab": {
          "base_uri": "https://localhost:8080/"
        },
        "outputId": "22cee066-f724-4c4f-8e05-aef1fc6891c8"
      },
      "execution_count": 8,
      "outputs": [
        {
          "name": "stdout",
          "output_type": "stream",
          "text": [
            "Enter password: ··········\n",
            "Enter port: ··········\n"
          ]
        }
      ]
    },
    {
      "cell_type": "code",
      "source": [
        "#Dades de connexió a Oracle\n",
        "user = \"ESPECTACLES\"\n",
        "oracle_pwd = \"ESPECTACLES\"\n",
        "#port=\"1521\"\n",
        "hostname=\"oracle-1.grup00.gabd\"\n",
        "#serviceName=\"orcl\""
      ],
      "metadata": {
        "id": "vhEw_Tcq7mYF"
      },
      "execution_count": 6,
      "outputs": []
    },
    {
      "cell_type": "code",
      "source": [
        "# Cridem el constructor i obrim la connexió\n",
        "db = orcl(user=user, passwd=oracle_pwd, hostname=hostname, ssh=ssh_server)\n",
        "\n",
        "db.open()"
      ],
      "metadata": {
        "id": "N01w-yrD4AWa"
      },
      "execution_count": 9,
      "outputs": []
    },
    {
      "cell_type": "code",
      "source": [
        "if db.testConnection():\n",
        "    logging.warning(\"La connexió a {} funciona correctament.\".format(hostname))"
      ],
      "metadata": {
        "colab": {
          "base_uri": "https://localhost:8080/"
        },
        "id": "JimYEWLn7dg-",
        "outputId": "cf9fccff-9744-4ffb-a22e-af81e7acd7e8"
      },
      "execution_count": 5,
      "outputs": [
        {
          "output_type": "stream",
          "name": "stderr",
          "text": [
            "WARNING:root:La connexió a oracle-1.grup00.gabd funciona correctament.\n"
          ]
        },
        {
          "output_type": "stream",
          "name": "stdout",
          "text": [
            "Current user: ESPECTACLES, Current schema: ESPECTACLES\n"
          ]
        }
      ]
    },
    {
      "cell_type": "markdown",
      "source": [
        "Una vez establecida la conexión, abrimos un __cursor__. Un cursor es un objeto de Python que nos permitirá realizar consultas y recuperar los resultados. La instrucción básica para ejecutar una consulta es el metodo: __execute__. Mediante __execute__ podemos ejecutar cualquier instrucción de SQL. Lo habitual seran consultas (instrucciones __select__) pero también es posible otro tipo de instrucciones. Por ejemplo, __insert__ o __delete__ para insertar o borrar elementos respectivamente.\n",
        "\n",
        "En el código que hay a continuación se puede ver como el resultado de la consulta: *select * from pacient* se guarda en la variable __res__. Se puede recuperar cada uno de los valores mediante un bucle."
      ],
      "metadata": {
        "id": "nUuF9HHhB05x"
      }
    },
    {
      "cell_type": "code",
      "source": [
        "db.close()"
      ],
      "metadata": {
        "id": "pwuvTFrkDXdz",
        "colab": {
          "base_uri": "https://localhost:8080/"
        },
        "outputId": "3bee0bb7-e49b-4d28-bbe6-23fca4cd3b43"
      },
      "execution_count": 10,
      "outputs": [
        {
          "output_type": "stream",
          "name": "stderr",
          "text": [
            "WARNING:root:Database connection closed.\n"
          ]
        }
      ]
    }
  ]
}