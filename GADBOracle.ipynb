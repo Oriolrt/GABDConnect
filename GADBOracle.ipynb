{
  "nbformat": 4,
  "nbformat_minor": 0,
  "metadata": {
    "colab": {
      "provenance": [],
      "include_colab_link": true
    },
    "kernelspec": {
      "name": "python3",
      "display_name": "Python 3"
    },
    "language_info": {
      "name": "python"
    }
  },
  "cells": [
    {
      "cell_type": "markdown",
      "metadata": {
        "id": "view-in-github",
        "colab_type": "text"
      },
      "source": [
        "<a href=\"https://colab.research.google.com/github/Oriolrt/GABDConnect/blob/main/GADBOracle.ipynb\" target=\"_parent\"><img src=\"https://colab.research.google.com/assets/colab-badge.svg\" alt=\"Open In Colab\"/></a>"
      ]
    },
    {
      "cell_type": "code",
      "source": [
        "!pip install  git+https://github.com/Oriolrt/GABDConnect"
      ],
      "metadata": {
        "colab": {
          "base_uri": "https://localhost:8080/"
        },
        "id": "kx9xlYkKj5hM",
        "outputId": "b86b2a56-921b-49d5-bb48-d7729337e16b"
      },
      "execution_count": 1,
      "outputs": [
        {
          "output_type": "stream",
          "name": "stdout",
          "text": [
            "Collecting git+https://github.com/Oriolrt/GABDConnect\n",
            "  Cloning https://github.com/Oriolrt/GABDConnect to /tmp/pip-req-build-6zm2ntza\n",
            "  Running command git clone --filter=blob:none --quiet https://github.com/Oriolrt/GABDConnect /tmp/pip-req-build-6zm2ntza\n",
            "  Resolved https://github.com/Oriolrt/GABDConnect to commit 6b6b8369bfd33651100fa285126c388ea8d769d9\n",
            "  Preparing metadata (setup.py) ... \u001b[?25l\u001b[?25hdone\n",
            "Requirement already satisfied: oracleDB in /usr/local/lib/python3.10/dist-packages (from GABDConnect==0.0.1) (2.3.0)\n",
            "Requirement already satisfied: pymongo in /usr/local/lib/python3.10/dist-packages (from GABDConnect==0.0.1) (4.8.0)\n",
            "Requirement already satisfied: sshtunnel in /usr/local/lib/python3.10/dist-packages (from GABDConnect==0.0.1) (0.4.0)\n",
            "Requirement already satisfied: scikit-learn in /usr/local/lib/python3.10/dist-packages (from GABDConnect==0.0.1) (1.3.2)\n",
            "Requirement already satisfied: tqdm in /usr/local/lib/python3.10/dist-packages (from GABDConnect==0.0.1) (4.66.4)\n",
            "Requirement already satisfied: matplotlib in /usr/local/lib/python3.10/dist-packages (from GABDConnect==0.0.1) (3.7.1)\n",
            "Requirement already satisfied: pandas in /usr/local/lib/python3.10/dist-packages (from GABDConnect==0.0.1) (2.1.4)\n",
            "Requirement already satisfied: contourpy>=1.0.1 in /usr/local/lib/python3.10/dist-packages (from matplotlib->GABDConnect==0.0.1) (1.2.1)\n",
            "Requirement already satisfied: cycler>=0.10 in /usr/local/lib/python3.10/dist-packages (from matplotlib->GABDConnect==0.0.1) (0.12.1)\n",
            "Requirement already satisfied: fonttools>=4.22.0 in /usr/local/lib/python3.10/dist-packages (from matplotlib->GABDConnect==0.0.1) (4.53.1)\n",
            "Requirement already satisfied: kiwisolver>=1.0.1 in /usr/local/lib/python3.10/dist-packages (from matplotlib->GABDConnect==0.0.1) (1.4.5)\n",
            "Requirement already satisfied: numpy>=1.20 in /usr/local/lib/python3.10/dist-packages (from matplotlib->GABDConnect==0.0.1) (1.26.4)\n",
            "Requirement already satisfied: packaging>=20.0 in /usr/local/lib/python3.10/dist-packages (from matplotlib->GABDConnect==0.0.1) (24.1)\n",
            "Requirement already satisfied: pillow>=6.2.0 in /usr/local/lib/python3.10/dist-packages (from matplotlib->GABDConnect==0.0.1) (9.4.0)\n",
            "Requirement already satisfied: pyparsing>=2.3.1 in /usr/local/lib/python3.10/dist-packages (from matplotlib->GABDConnect==0.0.1) (3.1.2)\n",
            "Requirement already satisfied: python-dateutil>=2.7 in /usr/local/lib/python3.10/dist-packages (from matplotlib->GABDConnect==0.0.1) (2.8.2)\n",
            "Requirement already satisfied: cryptography>=3.2.1 in /usr/local/lib/python3.10/dist-packages (from oracleDB->GABDConnect==0.0.1) (42.0.8)\n",
            "Requirement already satisfied: pytz>=2020.1 in /usr/local/lib/python3.10/dist-packages (from pandas->GABDConnect==0.0.1) (2024.1)\n",
            "Requirement already satisfied: tzdata>=2022.1 in /usr/local/lib/python3.10/dist-packages (from pandas->GABDConnect==0.0.1) (2024.1)\n",
            "Requirement already satisfied: dnspython<3.0.0,>=1.16.0 in /usr/local/lib/python3.10/dist-packages (from pymongo->GABDConnect==0.0.1) (2.6.1)\n",
            "Requirement already satisfied: scipy>=1.5.0 in /usr/local/lib/python3.10/dist-packages (from scikit-learn->GABDConnect==0.0.1) (1.13.1)\n",
            "Requirement already satisfied: joblib>=1.1.1 in /usr/local/lib/python3.10/dist-packages (from scikit-learn->GABDConnect==0.0.1) (1.4.2)\n",
            "Requirement already satisfied: threadpoolctl>=2.0.0 in /usr/local/lib/python3.10/dist-packages (from scikit-learn->GABDConnect==0.0.1) (3.5.0)\n",
            "Requirement already satisfied: paramiko>=2.7.2 in /usr/local/lib/python3.10/dist-packages (from sshtunnel->GABDConnect==0.0.1) (3.4.0)\n",
            "Requirement already satisfied: cffi>=1.12 in /usr/local/lib/python3.10/dist-packages (from cryptography>=3.2.1->oracleDB->GABDConnect==0.0.1) (1.16.0)\n",
            "Requirement already satisfied: bcrypt>=3.2 in /usr/local/lib/python3.10/dist-packages (from paramiko>=2.7.2->sshtunnel->GABDConnect==0.0.1) (4.2.0)\n",
            "Requirement already satisfied: pynacl>=1.5 in /usr/local/lib/python3.10/dist-packages (from paramiko>=2.7.2->sshtunnel->GABDConnect==0.0.1) (1.5.0)\n",
            "Requirement already satisfied: six>=1.5 in /usr/local/lib/python3.10/dist-packages (from python-dateutil>=2.7->matplotlib->GABDConnect==0.0.1) (1.16.0)\n",
            "Requirement already satisfied: pycparser in /usr/local/lib/python3.10/dist-packages (from cffi>=1.12->cryptography>=3.2.1->oracleDB->GABDConnect==0.0.1) (2.22)\n"
          ]
        }
      ]
    },
    {
      "cell_type": "code",
      "source": [
        "from GABDConnect.oracleConnection import oracleConnection as orcl\n",
        "import getpass\n",
        "import logging"
      ],
      "metadata": {
        "id": "p6iEn-8Ycovs"
      },
      "execution_count": 2,
      "outputs": []
    },
    {
      "cell_type": "markdown",
      "source": [
        "# Conexión a Oracle\n",
        "Para conectarse a una base de datos des de Oracle es necesario instalar las libreria cx_Oracle o oracledb. En caso de instalar cx_Oracle será necesario tambien tener instalada la libreria *oracle_instant_client*."
      ],
      "metadata": {
        "id": "gchDobUsAiw4"
      }
    },
    {
      "cell_type": "markdown",
      "source": [
        "Añadimos las librerias y los datos de connexión. La variable *DSN* contiene los datos de __servidor__, __puerto__ y __nombre de servicio__ necesarios para conectarse a un servidor remoto."
      ],
      "metadata": {
        "id": "HhZ8twaIBSWq"
      }
    },
    {
      "cell_type": "code",
      "source": [
        " # Inicialitzem el diccionari amb les dades de connexió SSH per fer el tunel\n",
        "ssh_tunnel = \"dcccluster.uab.cat\"\n",
        "ssh_user = \"student\"\n",
        "pwd = getpass.getpass(\"Enter password: \")\n",
        "port = getpass.getpass(\"Enter port: \")\n",
        "\n",
        "ssh_server = {'ssh': ssh_tunnel , 'user': ssh_user,\n",
        "                'pwd': pwd, 'port': port} if ssh_tunnel is not None else None"
      ],
      "metadata": {
        "id": "R9NyUeLD7ieV",
        "colab": {
          "base_uri": "https://localhost:8080/"
        },
        "outputId": "718681d9-eebb-4e32-fd35-b69f6fe7ce54"
      },
      "execution_count": 3,
      "outputs": [
        {
          "name": "stdout",
          "output_type": "stream",
          "text": [
            "Enter password: ··········\n",
            "Enter port: ··········\n"
          ]
        }
      ]
    },
    {
      "cell_type": "code",
      "source": [
        "#Dades de connexió a Oracle\n",
        "user = \"ESPECTACLES\"\n",
        "oracle_pwd = \"ESPECTACLES\"\n",
        "#port=\"1521\"\n",
        "hostname=\"oracle-1.grup00.gabd\"\n",
        "#serviceName=\"orcl\""
      ],
      "metadata": {
        "id": "vhEw_Tcq7mYF"
      },
      "execution_count": 4,
      "outputs": []
    },
    {
      "cell_type": "code",
      "source": [
        "# Cridem el constructor i obrim la connexió\n",
        "db = orcl(user=user, passwd=oracle_pwd, hostname=hostname, ssh=ssh_server)\n",
        "\n",
        "db.open()"
      ],
      "metadata": {
        "id": "N01w-yrD4AWa"
      },
      "execution_count": 11,
      "outputs": []
    },
    {
      "cell_type": "code",
      "source": [
        "if db.testConnection():\n",
        "    logging.warning(\"La connexió a {} funciona correctament.\".format(hostname))"
      ],
      "metadata": {
        "colab": {
          "base_uri": "https://localhost:8080/"
        },
        "id": "JimYEWLn7dg-",
        "outputId": "10e83e5c-73f3-47e4-bfd3-e446be376df9"
      },
      "execution_count": 12,
      "outputs": [
        {
          "output_type": "stream",
          "name": "stderr",
          "text": [
            "WARNING:root:La connexió a oracle-1.grup00.gabd funciona correctament.\n"
          ]
        },
        {
          "output_type": "stream",
          "name": "stdout",
          "text": [
            "Current user: ESPECTACLES, Current schema: ESPECTACLES\n"
          ]
        }
      ]
    },
    {
      "cell_type": "markdown",
      "source": [
        "Una vez establecida la conexión, abrimos un __cursor__. Un cursor es un objeto de Python que nos permitirá realizar consultas y recuperar los resultados. La instrucción básica para ejecutar una consulta es el metodo: __execute__. Mediante __execute__ podemos ejecutar cualquier instrucción de SQL. Lo habitual seran consultas (instrucciones __select__) pero también es posible otro tipo de instrucciones. Por ejemplo, __insert__ o __delete__ para insertar o borrar elementos respectivamente.\n",
        "\n",
        "En el código que hay a continuación se puede ver como el resultado de la consulta: *select * from pacient* se guarda en la variable __res__. Se puede recuperar cada uno de los valores mediante un bucle."
      ],
      "metadata": {
        "id": "nUuF9HHhB05x"
      }
    },
    {
      "cell_type": "code",
      "source": [
        "db.close()"
      ],
      "metadata": {
        "id": "pwuvTFrkDXdz",
        "colab": {
          "base_uri": "https://localhost:8080/"
        },
        "outputId": "5667ea9f-960b-421f-dc6d-d8ea7d83415b"
      },
      "execution_count": 13,
      "outputs": [
        {
          "output_type": "stream",
          "name": "stderr",
          "text": [
            "WARNING:root:Database connection closed.\n"
          ]
        }
      ]
    }
  ]
}